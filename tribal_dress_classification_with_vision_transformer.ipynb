{
  "cells": [
    {
      "cell_type": "markdown",
      "metadata": {
        "id": "view-in-github",
        "colab_type": "text"
      },
      "source": [
        "<a href=\"https://colab.research.google.com/github/ArmoyTuhin/Artificial-Intelligence/blob/main/tribal_dress_classification_with_vision_transformer.ipynb\" target=\"_parent\"><img src=\"https://colab.research.google.com/assets/colab-badge.svg\" alt=\"Open In Colab\"/></a>"
      ]
    },
    {
      "cell_type": "code",
      "source": [
        "from google.colab import drive\n",
        "drive.mount('/content/drive')\n"
      ],
      "metadata": {
        "colab": {
          "base_uri": "https://localhost:8080/"
        },
        "id": "D9tpqbr_kUz0",
        "outputId": "ae0f224d-5add-4f33-90ee-096634d2e2b1"
      },
      "execution_count": null,
      "outputs": [
        {
          "output_type": "stream",
          "name": "stdout",
          "text": [
            "Drive already mounted at /content/drive; to attempt to forcibly remount, call drive.mount(\"/content/drive\", force_remount=True).\n"
          ]
        }
      ]
    },
    {
      "cell_type": "code",
      "source": [
        "path = \"/content/drive/MyDrive/Dataset/tribal_data/\""
      ],
      "metadata": {
        "id": "mDwbS4CInvXq"
      },
      "execution_count": null,
      "outputs": []
    },
    {
      "cell_type": "code",
      "source": [
        "!pip install -U tensorflow-addons"
      ],
      "metadata": {
        "colab": {
          "base_uri": "https://localhost:8080/"
        },
        "id": "OE5ziCiPIwUq",
        "outputId": "1fbfb48d-6f70-4f5d-fee8-25743562d379"
      },
      "execution_count": null,
      "outputs": [
        {
          "output_type": "stream",
          "name": "stdout",
          "text": [
            "Collecting tensorflow-addons\n",
            "  Downloading tensorflow_addons-0.16.1-cp37-cp37m-manylinux_2_12_x86_64.manylinux2010_x86_64.whl (1.1 MB)\n",
            "\u001b[K     |████████████████████████████████| 1.1 MB 3.9 MB/s \n",
            "\u001b[?25hRequirement already satisfied: typeguard>=2.7 in /usr/local/lib/python3.7/dist-packages (from tensorflow-addons) (2.7.1)\n",
            "Installing collected packages: tensorflow-addons\n",
            "Successfully installed tensorflow-addons-0.16.1\n"
          ]
        }
      ]
    },
    {
      "cell_type": "code",
      "source": [
        ""
      ],
      "metadata": {
        "id": "RRPIHlr2nudV"
      },
      "execution_count": null,
      "outputs": []
    },
    {
      "cell_type": "code",
      "execution_count": null,
      "metadata": {
        "id": "ipDEE2mFInaO"
      },
      "outputs": [],
      "source": [
        "import numpy as np\n",
        "import glob\n",
        "from os import listdir\n",
        "import pandas as pd\n",
        "import tensorflow as tf\n",
        "from tensorflow import keras\n",
        "from tensorflow.keras import layers\n",
        "import tensorflow_addons as tfa\n",
        "from keras.preprocessing.image import load_img\n",
        "from keras.preprocessing.image import img_to_array\n",
        "from sklearn.model_selection import train_test_split\n"
      ]
    },
    {
      "cell_type": "code",
      "source": [
        "# !unzip /content/tribal_dress.zip"
      ],
      "metadata": {
        "id": "vks7IXVJGVoR"
      },
      "execution_count": null,
      "outputs": []
    },
    {
      "cell_type": "code",
      "source": [
        "import os\n",
        "def get_label(file_path):\n",
        "    path_list = file_path.split(os.sep)\n",
        "    return path_list[-2]"
      ],
      "metadata": {
        "id": "sjRQlX-BKI8H"
      },
      "execution_count": null,
      "outputs": []
    },
    {
      "cell_type": "code",
      "source": [
        "x_train=[]\n",
        "y_train=[]\n",
        "for name in glob.glob(\"/content/drive/MyDrive/Dataset/tribal_data/train/*/*\"):\n",
        "  # print(name)\n",
        "  label = get_label(name)\n",
        "  # print(label)\n",
        "  img = load_img(name, target_size=(32, 32))\n",
        "  img = img_to_array(img)\n",
        "  x_train.append(img)\n",
        "  y_train.append(label)"
      ],
      "metadata": {
        "id": "fZQPiqnMGeVk"
      },
      "execution_count": null,
      "outputs": []
    },
    {
      "cell_type": "code",
      "source": [
        "print(y_train)"
      ],
      "metadata": {
        "colab": {
          "base_uri": "https://localhost:8080/"
        },
        "id": "9tjgbBwIza8h",
        "outputId": "2def04c7-5356-468d-ed09-f074f4ff099b"
      },
      "execution_count": null,
      "outputs": [
        {
          "output_type": "stream",
          "name": "stdout",
          "text": [
            "[[[1]]\n",
            "\n",
            " [[1]]\n",
            "\n",
            " [[1]]\n",
            "\n",
            " [[1]]\n",
            "\n",
            " [[1]]\n",
            "\n",
            " [[1]]\n",
            "\n",
            " [[1]]\n",
            "\n",
            " [[1]]\n",
            "\n",
            " [[1]]\n",
            "\n",
            " [[1]]\n",
            "\n",
            " [[1]]\n",
            "\n",
            " [[1]]\n",
            "\n",
            " [[1]]\n",
            "\n",
            " [[1]]\n",
            "\n",
            " [[1]]\n",
            "\n",
            " [[1]]\n",
            "\n",
            " [[1]]\n",
            "\n",
            " [[1]]\n",
            "\n",
            " [[1]]\n",
            "\n",
            " [[1]]\n",
            "\n",
            " [[1]]\n",
            "\n",
            " [[1]]\n",
            "\n",
            " [[1]]\n",
            "\n",
            " [[1]]\n",
            "\n",
            " [[1]]\n",
            "\n",
            " [[1]]\n",
            "\n",
            " [[1]]\n",
            "\n",
            " [[1]]\n",
            "\n",
            " [[1]]\n",
            "\n",
            " [[1]]\n",
            "\n",
            " [[1]]\n",
            "\n",
            " [[1]]\n",
            "\n",
            " [[1]]\n",
            "\n",
            " [[1]]\n",
            "\n",
            " [[1]]\n",
            "\n",
            " [[1]]\n",
            "\n",
            " [[1]]\n",
            "\n",
            " [[1]]\n",
            "\n",
            " [[1]]\n",
            "\n",
            " [[1]]\n",
            "\n",
            " [[1]]\n",
            "\n",
            " [[1]]\n",
            "\n",
            " [[1]]\n",
            "\n",
            " [[1]]\n",
            "\n",
            " [[1]]\n",
            "\n",
            " [[1]]\n",
            "\n",
            " [[1]]\n",
            "\n",
            " [[1]]\n",
            "\n",
            " [[1]]\n",
            "\n",
            " [[1]]\n",
            "\n",
            " [[1]]\n",
            "\n",
            " [[1]]\n",
            "\n",
            " [[1]]\n",
            "\n",
            " [[1]]\n",
            "\n",
            " [[1]]\n",
            "\n",
            " [[1]]\n",
            "\n",
            " [[1]]\n",
            "\n",
            " [[1]]\n",
            "\n",
            " [[1]]\n",
            "\n",
            " [[1]]\n",
            "\n",
            " [[1]]\n",
            "\n",
            " [[1]]\n",
            "\n",
            " [[1]]\n",
            "\n",
            " [[1]]\n",
            "\n",
            " [[1]]\n",
            "\n",
            " [[1]]\n",
            "\n",
            " [[1]]\n",
            "\n",
            " [[1]]\n",
            "\n",
            " [[1]]\n",
            "\n",
            " [[1]]\n",
            "\n",
            " [[1]]\n",
            "\n",
            " [[1]]\n",
            "\n",
            " [[1]]\n",
            "\n",
            " [[1]]\n",
            "\n",
            " [[1]]\n",
            "\n",
            " [[1]]\n",
            "\n",
            " [[1]]\n",
            "\n",
            " [[1]]\n",
            "\n",
            " [[1]]\n",
            "\n",
            " [[1]]\n",
            "\n",
            " [[1]]\n",
            "\n",
            " [[1]]\n",
            "\n",
            " [[1]]\n",
            "\n",
            " [[0]]\n",
            "\n",
            " [[0]]\n",
            "\n",
            " [[0]]\n",
            "\n",
            " [[0]]\n",
            "\n",
            " [[0]]\n",
            "\n",
            " [[0]]\n",
            "\n",
            " [[0]]\n",
            "\n",
            " [[0]]\n",
            "\n",
            " [[0]]\n",
            "\n",
            " [[0]]\n",
            "\n",
            " [[0]]\n",
            "\n",
            " [[0]]\n",
            "\n",
            " [[0]]\n",
            "\n",
            " [[0]]\n",
            "\n",
            " [[0]]\n",
            "\n",
            " [[0]]\n",
            "\n",
            " [[0]]\n",
            "\n",
            " [[0]]\n",
            "\n",
            " [[0]]\n",
            "\n",
            " [[0]]\n",
            "\n",
            " [[0]]\n",
            "\n",
            " [[0]]\n",
            "\n",
            " [[0]]\n",
            "\n",
            " [[0]]\n",
            "\n",
            " [[0]]\n",
            "\n",
            " [[0]]\n",
            "\n",
            " [[0]]\n",
            "\n",
            " [[0]]\n",
            "\n",
            " [[0]]\n",
            "\n",
            " [[0]]\n",
            "\n",
            " [[0]]\n",
            "\n",
            " [[0]]\n",
            "\n",
            " [[0]]\n",
            "\n",
            " [[0]]\n",
            "\n",
            " [[0]]\n",
            "\n",
            " [[0]]\n",
            "\n",
            " [[0]]\n",
            "\n",
            " [[0]]\n",
            "\n",
            " [[0]]\n",
            "\n",
            " [[0]]\n",
            "\n",
            " [[0]]\n",
            "\n",
            " [[0]]\n",
            "\n",
            " [[0]]\n",
            "\n",
            " [[0]]\n",
            "\n",
            " [[0]]\n",
            "\n",
            " [[0]]\n",
            "\n",
            " [[0]]\n",
            "\n",
            " [[0]]\n",
            "\n",
            " [[0]]\n",
            "\n",
            " [[0]]\n",
            "\n",
            " [[0]]\n",
            "\n",
            " [[0]]\n",
            "\n",
            " [[0]]\n",
            "\n",
            " [[0]]\n",
            "\n",
            " [[0]]\n",
            "\n",
            " [[0]]\n",
            "\n",
            " [[0]]\n",
            "\n",
            " [[0]]\n",
            "\n",
            " [[0]]\n",
            "\n",
            " [[0]]\n",
            "\n",
            " [[0]]\n",
            "\n",
            " [[0]]\n",
            "\n",
            " [[0]]\n",
            "\n",
            " [[0]]\n",
            "\n",
            " [[0]]\n",
            "\n",
            " [[0]]\n",
            "\n",
            " [[0]]]\n"
          ]
        }
      ]
    },
    {
      "cell_type": "code",
      "source": [
        "x_test=[]\n",
        "y_test=[]\n",
        "for name in glob.glob(\"/content/drive/MyDrive/Dataset/tribal_data/test/*/*\"):\n",
        "  # print(name)\n",
        "  label = get_label(name)\n",
        "  # print(label)\n",
        "  img = load_img(name, target_size=(32, 32))\n",
        "  img = img_to_array(img)\n",
        "  x_test.append(img)\n",
        "  y_test.append(label)"
      ],
      "metadata": {
        "id": "V583nD9nGeiZ"
      },
      "execution_count": null,
      "outputs": []
    },
    {
      "cell_type": "code",
      "source": [
        "print(y_train)"
      ],
      "metadata": {
        "colab": {
          "base_uri": "https://localhost:8080/"
        },
        "id": "8Uq6JXmHwFgx",
        "outputId": "20edb044-16e5-45d3-fa64-561346ebfd34"
      },
      "execution_count": null,
      "outputs": [
        {
          "output_type": "stream",
          "name": "stdout",
          "text": [
            "['monipuri', 'monipuri', 'monipuri', 'monipuri', 'monipuri', 'monipuri', 'monipuri', 'monipuri', 'monipuri', 'monipuri', 'monipuri', 'monipuri', 'monipuri', 'monipuri', 'monipuri', 'monipuri', 'monipuri', 'monipuri', 'monipuri', 'monipuri', 'monipuri', 'monipuri', 'monipuri', 'monipuri', 'monipuri', 'monipuri', 'monipuri', 'monipuri', 'monipuri', 'monipuri', 'monipuri', 'monipuri', 'monipuri', 'monipuri', 'monipuri', 'monipuri', 'monipuri', 'monipuri', 'monipuri', 'monipuri', 'monipuri', 'monipuri', 'monipuri', 'monipuri', 'monipuri', 'monipuri', 'monipuri', 'monipuri', 'monipuri', 'monipuri', 'monipuri', 'monipuri', 'monipuri', 'monipuri', 'monipuri', 'monipuri', 'monipuri', 'monipuri', 'monipuri', 'monipuri', 'monipuri', 'monipuri', 'monipuri', 'monipuri', 'monipuri', 'monipuri', 'monipuri', 'monipuri', 'monipuri', 'monipuri', 'monipuri', 'monipuri', 'monipuri', 'monipuri', 'monipuri', 'monipuri', 'monipuri', 'monipuri', 'monipuri', 'monipuri', 'monipuri', 'monipuri', 'monipuri', 'chakma', 'chakma', 'chakma', 'chakma', 'chakma', 'chakma', 'chakma', 'chakma', 'chakma', 'chakma', 'chakma', 'chakma', 'chakma', 'chakma', 'chakma', 'chakma', 'chakma', 'chakma', 'chakma', 'chakma', 'chakma', 'chakma', 'chakma', 'chakma', 'chakma', 'chakma', 'chakma', 'chakma', 'chakma', 'chakma', 'chakma', 'chakma', 'chakma', 'chakma', 'chakma', 'chakma', 'chakma', 'chakma', 'chakma', 'chakma', 'chakma', 'chakma', 'chakma', 'chakma', 'chakma', 'chakma', 'chakma', 'chakma', 'chakma', 'chakma', 'chakma', 'chakma', 'chakma', 'chakma', 'chakma', 'chakma', 'chakma', 'chakma', 'chakma', 'chakma', 'chakma', 'chakma', 'chakma', 'chakma', 'chakma', 'chakma', 'chakma']\n"
          ]
        }
      ]
    },
    {
      "cell_type": "code",
      "source": [
        ""
      ],
      "metadata": {
        "id": "C-5sV202w7x8"
      },
      "execution_count": null,
      "outputs": []
    },
    {
      "cell_type": "code",
      "source": [
        "# import gc\n",
        "\n",
        "# y_train = None\n",
        "# del y_train\n",
        "# gc.collect()\n",
        "\n",
        "# y_test = None\n",
        "# del y_test\n",
        "# gc.collect()\n",
        "\n",
        "# y_val = None\n",
        "# del y_val\n",
        "# gc.collect\n",
        "\n",
        "# x_train = None\n",
        "# del x_train\n",
        "# gc.collect()\n",
        "\n",
        "# x_test = None\n",
        "# del x_test\n",
        "# gc.collect()\n",
        "\n",
        "# x_train = None\n",
        "# del x_train\n",
        "# gc.collect()\n",
        "\n",
        "# x_val = None\n",
        "# del x_val\n",
        "# gc.collect()\n",
        "\n"
      ],
      "metadata": {
        "colab": {
          "base_uri": "https://localhost:8080/"
        },
        "id": "ffnmst_2z1y1",
        "outputId": "512604b0-22b0-4a19-961e-816d3758b8db"
      },
      "execution_count": null,
      "outputs": [
        {
          "output_type": "execute_result",
          "data": {
            "text/plain": [
              "0"
            ]
          },
          "metadata": {},
          "execution_count": 97
        }
      ]
    },
    {
      "cell_type": "code",
      "source": [
        "from sklearn.preprocessing import LabelEncoder, LabelBinarizer\n",
        "label_encoder = LabelEncoder()\n",
        "y_train= label_encoder.fit_transform(y_train)\n",
        "y_test= label_encoder.fit_transform(y_test)\n",
        "# y_val= label_encoder.fit_transform(y_val)"
      ],
      "metadata": {
        "id": "lvSpVnd-gsTq"
      },
      "execution_count": null,
      "outputs": []
    },
    {
      "cell_type": "code",
      "source": [
        "print(y_train.shape, y_test.shape)"
      ],
      "metadata": {
        "colab": {
          "base_uri": "https://localhost:8080/"
        },
        "id": "sMpnHI6HyUrG",
        "outputId": "eca0dc8d-3e79-4ea7-c5e2-8aa6196a9f55"
      },
      "execution_count": null,
      "outputs": [
        {
          "output_type": "stream",
          "name": "stdout",
          "text": [
            "(150,) (38,)\n"
          ]
        }
      ]
    },
    {
      "cell_type": "code",
      "source": [
        "# lb = LabelBinarizer()\n",
        "# y_train = lb.fit_transform(y_train)\n",
        "# y_test = lb.fit_transform(y_test)"
      ],
      "metadata": {
        "id": "bgmludjazSx6"
      },
      "execution_count": null,
      "outputs": []
    },
    {
      "cell_type": "code",
      "source": [
        "# print(y_train.shape, y_test.shape)"
      ],
      "metadata": {
        "colab": {
          "base_uri": "https://localhost:8080/"
        },
        "id": "iayncLYazq93",
        "outputId": "f21d31b9-5614-46e3-8b1b-61e9c09abd1c"
      },
      "execution_count": null,
      "outputs": [
        {
          "output_type": "stream",
          "name": "stdout",
          "text": [
            "(150, 1) (38, 1)\n"
          ]
        }
      ]
    },
    {
      "cell_type": "code",
      "source": [
        "# def get_val(X, y):\n",
        "#   X_train, X_test, y_train, y_test = train_test_split(X, y, test_size=0.2, random_state=42)\n",
        "\n",
        "#   return X_train, X_test, y_train, y_test\n",
        "  \n",
        "# x_train, x_val, y_train, y_val = get_val(x_train, y_train)"
      ],
      "metadata": {
        "id": "bMKHpq_B5uYO"
      },
      "execution_count": null,
      "outputs": []
    },
    {
      "cell_type": "code",
      "source": [
        "# print(x_train.shape, x_val.shape, y_train.shape, y_val.shape)"
      ],
      "metadata": {
        "colab": {
          "base_uri": "https://localhost:8080/",
          "height": 172
        },
        "id": "EboNGieC5xBY",
        "outputId": "6e4612d4-f70a-4228-92ce-9c01f105e307"
      },
      "execution_count": null,
      "outputs": [
        {
          "output_type": "error",
          "ename": "AttributeError",
          "evalue": "ignored",
          "traceback": [
            "\u001b[0;31m---------------------------------------------------------------------------\u001b[0m",
            "\u001b[0;31mAttributeError\u001b[0m                            Traceback (most recent call last)",
            "\u001b[0;32m<ipython-input-105-5a8d4e85944d>\u001b[0m in \u001b[0;36m<module>\u001b[0;34m()\u001b[0m\n\u001b[0;32m----> 1\u001b[0;31m \u001b[0mprint\u001b[0m\u001b[0;34m(\u001b[0m\u001b[0mx_train\u001b[0m\u001b[0;34m.\u001b[0m\u001b[0mshape\u001b[0m\u001b[0;34m,\u001b[0m \u001b[0mx_val\u001b[0m\u001b[0;34m.\u001b[0m\u001b[0mshape\u001b[0m\u001b[0;34m,\u001b[0m \u001b[0my_train\u001b[0m\u001b[0;34m.\u001b[0m\u001b[0mshape\u001b[0m\u001b[0;34m,\u001b[0m \u001b[0my_val\u001b[0m\u001b[0;34m.\u001b[0m\u001b[0mshape\u001b[0m\u001b[0;34m)\u001b[0m\u001b[0;34m\u001b[0m\u001b[0;34m\u001b[0m\u001b[0m\n\u001b[0m",
            "\u001b[0;31mAttributeError\u001b[0m: 'list' object has no attribute 'shape'"
          ]
        }
      ]
    },
    {
      "cell_type": "code",
      "source": [
        "\n",
        "### probably this cell is not necessary as label has already been encoded\n",
        "y_train = [[i] for i in y_train]\n",
        "y_test = [[i] for i in y_test]\n",
        "# y_val = [[i] for i in y_val]"
      ],
      "metadata": {
        "id": "3ktOw1Mkl3_6"
      },
      "execution_count": null,
      "outputs": []
    },
    {
      "cell_type": "code",
      "source": [
        ""
      ],
      "metadata": {
        "id": "U4584PpO0oER"
      },
      "execution_count": null,
      "outputs": []
    },
    {
      "cell_type": "code",
      "source": [
        "\n"
      ],
      "metadata": {
        "id": "Kve5aiR7yOov"
      },
      "execution_count": null,
      "outputs": []
    },
    {
      "cell_type": "code",
      "source": [
        "import numpy as np\n",
        "x_train=np.array(x_train)\n",
        "y_train=np.array(y_train)\n",
        "x_test=np.array(x_test)\n",
        "y_test=np.array(y_test)\n",
        "# x_val=np.array(x_val)\n",
        "# y_val=np.array(y_val)"
      ],
      "metadata": {
        "id": "ynp1Bqe-L0Yo"
      },
      "execution_count": null,
      "outputs": []
    },
    {
      "cell_type": "code",
      "source": [
        "print(x_train.shape, x_val.shape, y_train.shape, y_val.shape, x_test.shape, y_test.shape)"
      ],
      "metadata": {
        "colab": {
          "base_uri": "https://localhost:8080/"
        },
        "id": "vh8du9QX088C",
        "outputId": "e6d725e8-c97c-45b0-de58-362ec2ac96c2"
      },
      "execution_count": null,
      "outputs": [
        {
          "output_type": "stream",
          "name": "stdout",
          "text": [
            "(120, 32, 32, 3) (30, 32, 32, 3) (120, 1) (30, 1) (38, 32, 32, 3) (38, 1)\n"
          ]
        }
      ]
    },
    {
      "cell_type": "code",
      "source": [
        "num_classes = 2\n",
        "input_shape =(32,32,3)"
      ],
      "metadata": {
        "id": "XyeGskkegZP3"
      },
      "execution_count": null,
      "outputs": []
    },
    {
      "cell_type": "markdown",
      "source": [
        "Configure the hyperparameters"
      ],
      "metadata": {
        "id": "xkBwfh07Kiou"
      }
    },
    {
      "cell_type": "code",
      "execution_count": null,
      "metadata": {
        "id": "kY50u0zmInaS"
      },
      "outputs": [],
      "source": [
        "learning_rate = 0.001\n",
        "weight_decay = 0.0001\n",
        "batch_size = 8\n",
        "num_epochs = 100\n",
        "image_size = 72  # We'll resize input images to this size\n",
        "patch_size = 6  # Size of the patches to be extract from the input images\n",
        "num_patches = (image_size // patch_size) ** 2\n",
        "projection_dim = 64\n",
        "num_heads = 4\n",
        "transformer_units = [\n",
        "    projection_dim * 2,\n",
        "    projection_dim,\n",
        "]  # Size of the transformer layers\n",
        "transformer_layers = 8\n",
        "mlp_head_units = [2048, 1024]  # Size of the dense layers of the final classifier\n"
      ]
    },
    {
      "cell_type": "markdown",
      "source": [
        "Use data augmentation"
      ],
      "metadata": {
        "id": "cfXzWdVzKpfo"
      }
    },
    {
      "cell_type": "code",
      "execution_count": null,
      "metadata": {
        "id": "EnTTTTuTInaT"
      },
      "outputs": [],
      "source": [
        "data_augmentation = keras.Sequential(\n",
        "    [\n",
        "        layers.Normalization(),\n",
        "        layers.Resizing(image_size, image_size),\n",
        "        layers.RandomFlip(\"horizontal\"),\n",
        "        layers.RandomRotation(factor=0.02),\n",
        "        layers.RandomZoom(\n",
        "            height_factor=0.2, width_factor=0.2\n",
        "        ),\n",
        "    ],\n",
        "    name=\"data_augmentation\",\n",
        ")\n",
        "# Compute the mean and the variance of the training data for normalization.\n",
        "data_augmentation.layers[0].adapt(x_train)\n"
      ]
    },
    {
      "cell_type": "markdown",
      "source": [
        "Implement multilayer perceptron (MLP)"
      ],
      "metadata": {
        "id": "L6u3n7w-LDOC"
      }
    },
    {
      "cell_type": "code",
      "execution_count": null,
      "metadata": {
        "id": "SGqWM1k8InaU"
      },
      "outputs": [],
      "source": [
        "\n",
        "def mlp(x, hidden_units, dropout_rate):\n",
        "    for units in hidden_units:\n",
        "        x = layers.Dense(units, activation=tf.nn.gelu)(x)\n",
        "        x = layers.Dropout(dropout_rate)(x)\n",
        "    return x\n"
      ]
    },
    {
      "cell_type": "markdown",
      "source": [
        "Implement patch creation as a layer"
      ],
      "metadata": {
        "id": "GpDS0MlrLGwR"
      }
    },
    {
      "cell_type": "code",
      "execution_count": null,
      "metadata": {
        "id": "6t96LcldInaV"
      },
      "outputs": [],
      "source": [
        "\n",
        "class Patches(layers.Layer):\n",
        "    def __init__(self, patch_size):\n",
        "        super(Patches, self).__init__()\n",
        "        self.patch_size = patch_size\n",
        "\n",
        "    def call(self, images):\n",
        "        batch_size = tf.shape(images)[0]\n",
        "        patches = tf.image.extract_patches(\n",
        "            images=images,\n",
        "            sizes=[1, self.patch_size, self.patch_size, 1],\n",
        "            strides=[1, self.patch_size, self.patch_size, 1],\n",
        "            rates=[1, 1, 1, 1],\n",
        "            padding=\"VALID\",\n",
        "        )\n",
        "        patch_dims = patches.shape[-1]\n",
        "        patches = tf.reshape(patches, [batch_size, -1, patch_dims])\n",
        "        return patches\n"
      ]
    },
    {
      "cell_type": "markdown",
      "source": [
        "display patches for a sample image"
      ],
      "metadata": {
        "id": "DEdvN7dXLL4f"
      }
    },
    {
      "cell_type": "code",
      "execution_count": null,
      "metadata": {
        "colab": {
          "base_uri": "https://localhost:8080/",
          "height": 553
        },
        "id": "7mbFcGzdInaW",
        "outputId": "bbe86ea4-b110-4a7a-d3e9-5a76c5a686ed"
      },
      "outputs": [
        {
          "output_type": "stream",
          "name": "stdout",
          "text": [
            "Image size: 72 X 72\n",
            "Patch size: 6 X 6\n",
            "Patches per image: 144\n",
            "Elements per patch: 108\n"
          ]
        },
        {
          "output_type": "display_data",
          "data": {
            "text/plain": [
              "<Figure size 288x288 with 1 Axes>"
            ],
            "image/png": "[encoded data removed]"
          },
          "metadata": {
            "needs_background": "light"
          }
        },
        {
          "output_type": "display_data",
          "data": {
            "text/plain": [
              "<Figure size 288x288 with 144 Axes>"
            ],
            "image/png": "[encoded data removed]"
          },
          "metadata": {
            "needs_background": "light"
          }
        }
      ],
      "source": [
        "import matplotlib.pyplot as plt\n",
        "\n",
        "plt.figure(figsize=(4, 4))\n",
        "image = x_train[np.random.choice(range(x_train.shape[0]))]\n",
        "plt.imshow(image.astype(\"uint8\"))\n",
        "plt.axis(\"off\")\n",
        "\n",
        "resized_image = tf.image.resize(\n",
        "    tf.convert_to_tensor([image]), size=(image_size, image_size)\n",
        ")\n",
        "patches = Patches(patch_size)(resized_image)\n",
        "print(f\"Image size: {image_size} X {image_size}\")\n",
        "print(f\"Patch size: {patch_size} X {patch_size}\")\n",
        "print(f\"Patches per image: {patches.shape[1]}\")\n",
        "print(f\"Elements per patch: {patches.shape[-1]}\")\n",
        "\n",
        "n = int(np.sqrt(patches.shape[1]))\n",
        "plt.figure(figsize=(4, 4))\n",
        "for i, patch in enumerate(patches[0]):\n",
        "    ax = plt.subplot(n, n, i + 1)\n",
        "    patch_img = tf.reshape(patch, (patch_size, patch_size, 3))\n",
        "    plt.imshow(patch_img.numpy().astype(\"uint8\"))\n",
        "    plt.axis(\"off\")"
      ]
    },
    {
      "cell_type": "markdown",
      "source": [
        "Implement the patch encoding layer"
      ],
      "metadata": {
        "id": "Oq3DahWzLSpf"
      }
    },
    {
      "cell_type": "code",
      "execution_count": null,
      "metadata": {
        "id": "QRJPCHsAInaX"
      },
      "outputs": [],
      "source": [
        "\n",
        "class PatchEncoder(layers.Layer):\n",
        "    def __init__(self, num_patches, projection_dim):\n",
        "        super(PatchEncoder, self).__init__()\n",
        "        self.num_patches = num_patches\n",
        "        self.projection = layers.Dense(units=projection_dim)\n",
        "        self.position_embedding = layers.Embedding(\n",
        "            input_dim=num_patches, output_dim=projection_dim\n",
        "        )\n",
        "\n",
        "    def call(self, patch):\n",
        "        positions = tf.range(start=0, limit=self.num_patches, delta=1)\n",
        "        encoded = self.projection(patch) + self.position_embedding(positions)\n",
        "        return encoded\n"
      ]
    },
    {
      "cell_type": "code",
      "execution_count": null,
      "metadata": {
        "id": "02bsLVYWInaY"
      },
      "outputs": [],
      "source": [
        "\n",
        "def create_vit_classifier():\n",
        "    inputs = layers.Input(shape=input_shape)\n",
        "    # Augment data.\n",
        "    augmented = data_augmentation(inputs)\n",
        "    # Create patches.\n",
        "    patches = Patches(patch_size)(augmented)\n",
        "    # Encode patches.\n",
        "    encoded_patches = PatchEncoder(num_patches, projection_dim)(patches)\n",
        "\n",
        "    # Create multiple layers of the Transformer block.\n",
        "    for _ in range(transformer_layers):\n",
        "        # Layer normalization 1.\n",
        "        x1 = layers.LayerNormalization(epsilon=1e-6)(encoded_patches)\n",
        "        # Create a multi-head attention layer.\n",
        "        attention_output = layers.MultiHeadAttention(\n",
        "            num_heads=num_heads, key_dim=projection_dim, dropout=0.1\n",
        "        )(x1, x1)\n",
        "        # Skip connection 1.\n",
        "        x2 = layers.Add()([attention_output, encoded_patches])\n",
        "        # Layer normalization 2.\n",
        "        x3 = layers.LayerNormalization(epsilon=1e-6)(x2)\n",
        "        # MLP.\n",
        "        x3 = mlp(x3, hidden_units=transformer_units, dropout_rate=0.1)\n",
        "        # Skip connection 2.\n",
        "        encoded_patches = layers.Add()([x3, x2])\n",
        "\n",
        "    # Create a [batch_size, projection_dim] tensor.\n",
        "    representation = layers.LayerNormalization(epsilon=1e-6)(encoded_patches)\n",
        "    representation = layers.Flatten()(representation)\n",
        "    representation = layers.Dropout(0.5)(representation)\n",
        "    # Add MLP.\n",
        "    features = mlp(representation, hidden_units=mlp_head_units, dropout_rate=0.5)\n",
        "\n",
        "    # Classify outputs.\n",
        "    logits = layers.Dense(1, activation='sigmoid')(features)\n",
        "    # Create the Keras model.\n",
        "    model = keras.Model(inputs=inputs, outputs=logits)\n",
        "    return model\n"
      ]
    },
    {
      "cell_type": "code",
      "source": [
        "import tensorflow.keras.backend as K\n",
        "def recall(y_true, y_pred):\n",
        "    true_positives = K.sum(K.round(K.clip(y_true * y_pred, 0, 1)))\n",
        "    possible_positives = K.sum(K.round(K.clip(y_true, 0, 1)))\n",
        "    recall_keras = true_positives / (possible_positives + K.epsilon())\n",
        "    return recall_keras\n",
        "\n",
        "\n",
        "def precision(y_true, y_pred):\n",
        "    true_positives = K.sum(K.round(K.clip(y_true * y_pred, 0, 1)))\n",
        "    predicted_positives = K.sum(K.round(K.clip(y_pred, 0, 1)))\n",
        "    precision_keras = true_positives / (predicted_positives + K.epsilon())\n",
        "    return precision_keras\n",
        "\n",
        "def f1(y_true, y_pred):\n",
        "    p = precision(y_true, y_pred)\n",
        "    r = recall(y_true, y_pred)\n",
        "    return 2 * ((p * r) / (p + r + K.epsilon()))"
      ],
      "metadata": {
        "id": "Uu8dhD_V2Re7"
      },
      "execution_count": null,
      "outputs": []
    },
    {
      "cell_type": "code",
      "execution_count": null,
      "metadata": {
        "colab": {
          "base_uri": "https://localhost:8080/",
          "height": 1000
        },
        "id": "DRw6_VYtInaZ",
        "outputId": "57546a66-b941-41e8-e5cd-8eb07dd8bff7"
      },
      "outputs": [
        {
          "output_type": "stream",
          "name": "stdout",
          "text": [
            "Epoch 1/100\n",
            "17/17 [==============================] - 19s 275ms/step - loss: 2.7524 - accuracy: 0.3111 - kl: 19.0000 - recall: 0.8095 - precision: 0.8149 - f1: 0.7759 - val_loss: 4.6551 - val_accuracy: 0.0000e+00 - val_kl: 7.0000 - val_recall: 0.0000e+00 - val_precision: 0.0000e+00 - val_f1: 0.0000e+00\n",
            "Epoch 2/100\n",
            "17/17 [==============================] - 2s 92ms/step - loss: 2.7449 - accuracy: 0.4074 - kl: 11.0000 - recall: 0.8529 - precision: 0.8809 - f1: 0.8502 - val_loss: 0.0747 - val_accuracy: 0.0000e+00 - val_kl: 1.0000 - val_recall: 0.0000e+00 - val_precision: 0.0000e+00 - val_f1: 0.0000e+00\n",
            "Epoch 3/100\n",
            "17/17 [==============================] - 1s 86ms/step - loss: 2.6952 - accuracy: 0.4444 - kl: 14.0000 - recall: 0.8840 - precision: 0.8605 - f1: 0.8496 - val_loss: 0.0530 - val_accuracy: 0.0000e+00 - val_kl: 0.0000e+00 - val_recall: 0.0000e+00 - val_precision: 0.0000e+00 - val_f1: 0.0000e+00\n",
            "Epoch 4/100\n",
            "17/17 [==============================] - 1s 86ms/step - loss: 5.1689 - accuracy: 0.5185 - kl: 19.0000 - recall: 0.8881 - precision: 0.8165 - f1: 0.8279 - val_loss: 8.2581e-08 - val_accuracy: 0.0000e+00 - val_kl: 0.0000e+00 - val_recall: 0.0000e+00 - val_precision: 0.0000e+00 - val_f1: 0.0000e+00\n",
            "Epoch 5/100\n",
            "17/17 [==============================] - 1s 87ms/step - loss: 3.7021 - accuracy: 0.4296 - kl: 12.0000 - recall: 0.8646 - precision: 0.8485 - f1: 0.8468 - val_loss: 6.7836e-04 - val_accuracy: 0.0000e+00 - val_kl: 0.0000e+00 - val_recall: 0.0000e+00 - val_precision: 0.0000e+00 - val_f1: 0.0000e+00\n",
            "Epoch 6/100\n",
            "17/17 [==============================] - 1s 85ms/step - loss: 2.9630 - accuracy: 0.5333 - kl: 13.0000 - recall: 0.8343 - precision: 0.8301 - f1: 0.8129 - val_loss: 1.3531 - val_accuracy: 0.0000e+00 - val_kl: 2.0000 - val_recall: 0.0000e+00 - val_precision: 0.0000e+00 - val_f1: 0.0000e+00\n",
            "Epoch 7/100\n",
            "17/17 [==============================] - 1s 86ms/step - loss: 5.7494 - accuracy: 0.4889 - kl: 12.0000 - recall: 0.7930 - precision: 0.8725 - f1: 0.8019 - val_loss: 16.7524 - val_accuracy: 0.0000e+00 - val_kl: 11.0000 - val_recall: 0.0000e+00 - val_precision: 0.0000e+00 - val_f1: 0.0000e+00\n",
            "Epoch 8/100\n",
            "17/17 [==============================] - 1s 87ms/step - loss: 2.6184 - accuracy: 0.4741 - kl: 7.0000 - recall: 0.8742 - precision: 0.9297 - f1: 0.8841 - val_loss: 1.8162 - val_accuracy: 0.0000e+00 - val_kl: 3.0000 - val_recall: 0.0000e+00 - val_precision: 0.0000e+00 - val_f1: 0.0000e+00\n",
            "Epoch 9/100\n",
            "17/17 [==============================] - 2s 94ms/step - loss: 1.8124 - accuracy: 0.4741 - kl: 15.0000 - recall: 0.8794 - precision: 0.8254 - f1: 0.8341 - val_loss: 4.6300e-07 - val_accuracy: 0.0000e+00 - val_kl: 0.0000e+00 - val_recall: 0.0000e+00 - val_precision: 0.0000e+00 - val_f1: 0.0000e+00\n",
            "Epoch 10/100\n",
            "17/17 [==============================] - 2s 96ms/step - loss: 1.4474 - accuracy: 0.4741 - kl: 8.0000 - recall: 0.9053 - precision: 0.9171 - f1: 0.8953 - val_loss: 1.1638 - val_accuracy: 0.0000e+00 - val_kl: 3.0000 - val_recall: 0.0000e+00 - val_precision: 0.0000e+00 - val_f1: 0.0000e+00\n",
            "Epoch 11/100\n",
            "17/17 [==============================] - 2s 96ms/step - loss: 1.6739 - accuracy: 0.4444 - kl: 12.0000 - recall: 0.8569 - precision: 0.8377 - f1: 0.8397 - val_loss: 0.0656 - val_accuracy: 0.0000e+00 - val_kl: 0.0000e+00 - val_recall: 0.0000e+00 - val_precision: 0.0000e+00 - val_f1: 0.0000e+00\n",
            "Epoch 12/100\n",
            "17/17 [==============================] - 2s 95ms/step - loss: 1.0215 - accuracy: 0.3778 - kl: 8.0000 - recall: 0.8784 - precision: 0.8863 - f1: 0.8650 - val_loss: 0.3442 - val_accuracy: 0.0000e+00 - val_kl: 2.0000 - val_recall: 0.0000e+00 - val_precision: 0.0000e+00 - val_f1: 0.0000e+00\n",
            "Epoch 13/100\n",
            "17/17 [==============================] - 1s 87ms/step - loss: 0.5093 - accuracy: 0.3333 - kl: 6.0000 - recall: 0.9363 - precision: 0.9161 - f1: 0.9173 - val_loss: 0.0688 - val_accuracy: 0.0000e+00 - val_kl: 1.0000 - val_recall: 0.0000e+00 - val_precision: 0.0000e+00 - val_f1: 0.0000e+00\n",
            "Epoch 14/100\n",
            "17/17 [==============================] - 1s 86ms/step - loss: 0.4274 - accuracy: 0.3778 - kl: 5.0000 - recall: 0.9147 - precision: 0.9289 - f1: 0.9151 - val_loss: 0.1166 - val_accuracy: 0.0000e+00 - val_kl: 1.0000 - val_recall: 0.0000e+00 - val_precision: 0.0000e+00 - val_f1: 0.0000e+00\n",
            "Epoch 15/100\n",
            "17/17 [==============================] - 1s 86ms/step - loss: 0.8174 - accuracy: 0.3630 - kl: 6.0000 - recall: 0.9210 - precision: 0.9332 - f1: 0.9152 - val_loss: 0.3360 - val_accuracy: 0.0000e+00 - val_kl: 1.0000 - val_recall: 0.0000e+00 - val_precision: 0.0000e+00 - val_f1: 0.0000e+00\n",
            "Epoch 16/100\n",
            "17/17 [==============================] - 1s 87ms/step - loss: 0.7041 - accuracy: 0.4222 - kl: 6.0000 - recall: 0.8964 - precision: 0.9196 - f1: 0.8778 - val_loss: 0.0377 - val_accuracy: 0.0000e+00 - val_kl: 0.0000e+00 - val_recall: 0.0000e+00 - val_precision: 0.0000e+00 - val_f1: 0.0000e+00\n",
            "Epoch 17/100\n",
            "17/17 [==============================] - 1s 87ms/step - loss: 0.5815 - accuracy: 0.4667 - kl: 8.0000 - recall: 0.9681 - precision: 0.9028 - f1: 0.9263 - val_loss: 0.2030 - val_accuracy: 0.0000e+00 - val_kl: 1.0000 - val_recall: 0.0000e+00 - val_precision: 0.0000e+00 - val_f1: 0.0000e+00\n",
            "Epoch 18/100\n",
            "17/17 [==============================] - 1s 86ms/step - loss: 0.4092 - accuracy: 0.4074 - kl: 7.0000 - recall: 0.9038 - precision: 0.9123 - f1: 0.9002 - val_loss: 0.4096 - val_accuracy: 0.0000e+00 - val_kl: 2.0000 - val_recall: 0.0000e+00 - val_precision: 0.0000e+00 - val_f1: 0.0000e+00\n",
            "Epoch 19/100\n",
            "17/17 [==============================] - 1s 86ms/step - loss: 0.3508 - accuracy: 0.3852 - kl: 4.0000 - recall: 0.9882 - precision: 0.9471 - f1: 0.9633 - val_loss: 8.0674e-04 - val_accuracy: 0.0000e+00 - val_kl: 0.0000e+00 - val_recall: 0.0000e+00 - val_precision: 0.0000e+00 - val_f1: 0.0000e+00\n",
            "Epoch 20/100\n",
            "17/17 [==============================] - 1s 87ms/step - loss: 0.1711 - accuracy: 0.4370 - kl: 3.0000 - recall: 0.9601 - precision: 0.9618 - f1: 0.9562 - val_loss: 1.0992 - val_accuracy: 0.0000e+00 - val_kl: 4.0000 - val_recall: 0.0000e+00 - val_precision: 0.0000e+00 - val_f1: 0.0000e+00\n",
            "Epoch 21/100\n",
            "17/17 [==============================] - 1s 87ms/step - loss: 0.3223 - accuracy: 0.4593 - kl: 3.0000 - recall: 0.9275 - precision: 0.9608 - f1: 0.9379 - val_loss: 0.0017 - val_accuracy: 0.0000e+00 - val_kl: 0.0000e+00 - val_recall: 0.0000e+00 - val_precision: 0.0000e+00 - val_f1: 0.0000e+00\n",
            "Epoch 22/100\n",
            "17/17 [==============================] - 1s 87ms/step - loss: 0.3558 - accuracy: 0.3926 - kl: 7.0000 - recall: 0.9436 - precision: 0.9244 - f1: 0.9279 - val_loss: 0.0646 - val_accuracy: 0.0000e+00 - val_kl: 0.0000e+00 - val_recall: 0.0000e+00 - val_precision: 0.0000e+00 - val_f1: 0.0000e+00\n",
            "Epoch 23/100\n",
            "17/17 [==============================] - 1s 87ms/step - loss: 0.1592 - accuracy: 0.4667 - kl: 1.0000 - recall: 0.9510 - precision: 0.9902 - f1: 0.9658 - val_loss: 0.9124 - val_accuracy: 0.0000e+00 - val_kl: 3.0000 - val_recall: 0.0000e+00 - val_precision: 0.0000e+00 - val_f1: 0.0000e+00\n",
            "Epoch 24/100\n",
            "17/17 [==============================] - 1s 87ms/step - loss: 0.3636 - accuracy: 0.4815 - kl: 6.0000 - recall: 0.9798 - precision: 0.9434 - f1: 0.9574 - val_loss: 7.9329e-04 - val_accuracy: 0.0000e+00 - val_kl: 0.0000e+00 - val_recall: 0.0000e+00 - val_precision: 0.0000e+00 - val_f1: 0.0000e+00\n",
            "Epoch 25/100\n",
            "17/17 [==============================] - 1s 87ms/step - loss: 0.1005 - accuracy: 0.3333 - kl: 2.0000 - recall: 0.9686 - precision: 0.9798 - f1: 0.9706 - val_loss: 0.0157 - val_accuracy: 0.0000e+00 - val_kl: 0.0000e+00 - val_recall: 0.0000e+00 - val_precision: 0.0000e+00 - val_f1: 0.0000e+00\n",
            "Epoch 26/100\n",
            "17/17 [==============================] - 1s 85ms/step - loss: 0.1439 - accuracy: 0.4148 - kl: 2.0000 - recall: 0.9784 - precision: 0.9735 - f1: 0.9732 - val_loss: 0.0107 - val_accuracy: 0.0000e+00 - val_kl: 0.0000e+00 - val_recall: 0.0000e+00 - val_precision: 0.0000e+00 - val_f1: 0.0000e+00\n",
            "Epoch 27/100\n",
            "17/17 [==============================] - 1s 87ms/step - loss: 0.2198 - accuracy: 0.4667 - kl: 3.0000 - recall: 0.9588 - precision: 0.9637 - f1: 0.9585 - val_loss: 0.0012 - val_accuracy: 0.0000e+00 - val_kl: 0.0000e+00 - val_recall: 0.0000e+00 - val_precision: 0.0000e+00 - val_f1: 0.0000e+00\n",
            "Epoch 28/100\n",
            "17/17 [==============================] - 1s 86ms/step - loss: 0.1953 - accuracy: 0.4741 - kl: 1.0000 - recall: 0.9700 - precision: 0.9853 - f1: 0.9752 - val_loss: 1.2478 - val_accuracy: 0.0000e+00 - val_kl: 5.0000 - val_recall: 0.0000e+00 - val_precision: 0.0000e+00 - val_f1: 0.0000e+00\n",
            "Epoch 29/100\n",
            "17/17 [==============================] - 1s 88ms/step - loss: 0.0863 - accuracy: 0.4667 - kl: 2.0000 - recall: 0.9735 - precision: 0.9755 - f1: 0.9713 - val_loss: 0.5995 - val_accuracy: 0.0000e+00 - val_kl: 1.0000 - val_recall: 0.0000e+00 - val_precision: 0.0000e+00 - val_f1: 0.0000e+00\n",
            "Epoch 30/100\n",
            " 1/17 [>.............................] - ETA: 1s - loss: 0.0026 - accuracy: 0.5000 - kl: 0.0000e+00 - recall: 1.0000 - precision: 1.0000 - f1: 1.0000"
          ]
        },
        {
          "output_type": "error",
          "ename": "KeyboardInterrupt",
          "evalue": "ignored",
          "traceback": [
            "\u001b[0;31m---------------------------------------------------------------------------\u001b[0m",
            "\u001b[0;31mKeyboardInterrupt\u001b[0m                         Traceback (most recent call last)",
            "\u001b[0;32m<ipython-input-42-38a29b9f8daa>\u001b[0m in \u001b[0;36m<module>\u001b[0;34m()\u001b[0m\n\u001b[1;32m     48\u001b[0m \u001b[0;34m\u001b[0m\u001b[0m\n\u001b[1;32m     49\u001b[0m \u001b[0mvit_classifier\u001b[0m \u001b[0;34m=\u001b[0m \u001b[0mcreate_vit_classifier\u001b[0m\u001b[0;34m(\u001b[0m\u001b[0;34m)\u001b[0m\u001b[0;34m\u001b[0m\u001b[0;34m\u001b[0m\u001b[0m\n\u001b[0;32m---> 50\u001b[0;31m \u001b[0mhistory\u001b[0m \u001b[0;34m=\u001b[0m \u001b[0mrun_experiment\u001b[0m\u001b[0;34m(\u001b[0m\u001b[0mvit_classifier\u001b[0m\u001b[0;34m)\u001b[0m\u001b[0;34m\u001b[0m\u001b[0;34m\u001b[0m\u001b[0m\n\u001b[0m",
            "\u001b[0;32m<ipython-input-42-38a29b9f8daa>\u001b[0m in \u001b[0;36mrun_experiment\u001b[0;34m(model)\u001b[0m\n\u001b[1;32m     32\u001b[0m         \u001b[0mepochs\u001b[0m\u001b[0;34m=\u001b[0m\u001b[0mnum_epochs\u001b[0m\u001b[0;34m,\u001b[0m\u001b[0;34m\u001b[0m\u001b[0;34m\u001b[0m\u001b[0m\n\u001b[1;32m     33\u001b[0m         \u001b[0mvalidation_split\u001b[0m\u001b[0;34m=\u001b[0m\u001b[0;36m0.1\u001b[0m\u001b[0;34m,\u001b[0m\u001b[0;34m\u001b[0m\u001b[0;34m\u001b[0m\u001b[0m\n\u001b[0;32m---> 34\u001b[0;31m         \u001b[0mcallbacks\u001b[0m\u001b[0;34m=\u001b[0m\u001b[0;34m[\u001b[0m\u001b[0mcheckpoint_callback\u001b[0m\u001b[0;34m]\u001b[0m\u001b[0;34m\u001b[0m\u001b[0;34m\u001b[0m\u001b[0m\n\u001b[0m\u001b[1;32m     35\u001b[0m     )\n\u001b[1;32m     36\u001b[0m \u001b[0;34m\u001b[0m\u001b[0m\n",
            "\u001b[0;32m/usr/local/lib/python3.7/dist-packages/keras/utils/traceback_utils.py\u001b[0m in \u001b[0;36merror_handler\u001b[0;34m(*args, **kwargs)\u001b[0m\n\u001b[1;32m     62\u001b[0m     \u001b[0mfiltered_tb\u001b[0m \u001b[0;34m=\u001b[0m \u001b[0;32mNone\u001b[0m\u001b[0;34m\u001b[0m\u001b[0;34m\u001b[0m\u001b[0m\n\u001b[1;32m     63\u001b[0m     \u001b[0;32mtry\u001b[0m\u001b[0;34m:\u001b[0m\u001b[0;34m\u001b[0m\u001b[0;34m\u001b[0m\u001b[0m\n\u001b[0;32m---> 64\u001b[0;31m       \u001b[0;32mreturn\u001b[0m \u001b[0mfn\u001b[0m\u001b[0;34m(\u001b[0m\u001b[0;34m*\u001b[0m\u001b[0margs\u001b[0m\u001b[0;34m,\u001b[0m \u001b[0;34m**\u001b[0m\u001b[0mkwargs\u001b[0m\u001b[0;34m)\u001b[0m\u001b[0;34m\u001b[0m\u001b[0;34m\u001b[0m\u001b[0m\n\u001b[0m\u001b[1;32m     65\u001b[0m     \u001b[0;32mexcept\u001b[0m \u001b[0mException\u001b[0m \u001b[0;32mas\u001b[0m \u001b[0me\u001b[0m\u001b[0;34m:\u001b[0m  \u001b[0;31m# pylint: disable=broad-except\u001b[0m\u001b[0;34m\u001b[0m\u001b[0;34m\u001b[0m\u001b[0m\n\u001b[1;32m     66\u001b[0m       \u001b[0mfiltered_tb\u001b[0m \u001b[0;34m=\u001b[0m \u001b[0m_process_traceback_frames\u001b[0m\u001b[0;34m(\u001b[0m\u001b[0me\u001b[0m\u001b[0;34m.\u001b[0m\u001b[0m__traceback__\u001b[0m\u001b[0;34m)\u001b[0m\u001b[0;34m\u001b[0m\u001b[0;34m\u001b[0m\u001b[0m\n",
            "\u001b[0;32m/usr/local/lib/python3.7/dist-packages/keras/engine/training.py\u001b[0m in \u001b[0;36mfit\u001b[0;34m(self, x, y, batch_size, epochs, verbose, callbacks, validation_split, validation_data, shuffle, class_weight, sample_weight, initial_epoch, steps_per_epoch, validation_steps, validation_batch_size, validation_freq, max_queue_size, workers, use_multiprocessing)\u001b[0m\n\u001b[1;32m   1382\u001b[0m                 _r=1):\n\u001b[1;32m   1383\u001b[0m               \u001b[0mcallbacks\u001b[0m\u001b[0;34m.\u001b[0m\u001b[0mon_train_batch_begin\u001b[0m\u001b[0;34m(\u001b[0m\u001b[0mstep\u001b[0m\u001b[0;34m)\u001b[0m\u001b[0;34m\u001b[0m\u001b[0;34m\u001b[0m\u001b[0m\n\u001b[0;32m-> 1384\u001b[0;31m               \u001b[0mtmp_logs\u001b[0m \u001b[0;34m=\u001b[0m \u001b[0mself\u001b[0m\u001b[0;34m.\u001b[0m\u001b[0mtrain_function\u001b[0m\u001b[0;34m(\u001b[0m\u001b[0miterator\u001b[0m\u001b[0;34m)\u001b[0m\u001b[0;34m\u001b[0m\u001b[0;34m\u001b[0m\u001b[0m\n\u001b[0m\u001b[1;32m   1385\u001b[0m               \u001b[0;32mif\u001b[0m \u001b[0mdata_handler\u001b[0m\u001b[0;34m.\u001b[0m\u001b[0mshould_sync\u001b[0m\u001b[0;34m:\u001b[0m\u001b[0;34m\u001b[0m\u001b[0;34m\u001b[0m\u001b[0m\n\u001b[1;32m   1386\u001b[0m                 \u001b[0mcontext\u001b[0m\u001b[0;34m.\u001b[0m\u001b[0masync_wait\u001b[0m\u001b[0;34m(\u001b[0m\u001b[0;34m)\u001b[0m\u001b[0;34m\u001b[0m\u001b[0;34m\u001b[0m\u001b[0m\n",
            "\u001b[0;32m/usr/local/lib/python3.7/dist-packages/tensorflow/python/util/traceback_utils.py\u001b[0m in \u001b[0;36merror_handler\u001b[0;34m(*args, **kwargs)\u001b[0m\n\u001b[1;32m    148\u001b[0m     \u001b[0mfiltered_tb\u001b[0m \u001b[0;34m=\u001b[0m \u001b[0;32mNone\u001b[0m\u001b[0;34m\u001b[0m\u001b[0;34m\u001b[0m\u001b[0m\n\u001b[1;32m    149\u001b[0m     \u001b[0;32mtry\u001b[0m\u001b[0;34m:\u001b[0m\u001b[0;34m\u001b[0m\u001b[0;34m\u001b[0m\u001b[0m\n\u001b[0;32m--> 150\u001b[0;31m       \u001b[0;32mreturn\u001b[0m \u001b[0mfn\u001b[0m\u001b[0;34m(\u001b[0m\u001b[0;34m*\u001b[0m\u001b[0margs\u001b[0m\u001b[0;34m,\u001b[0m \u001b[0;34m**\u001b[0m\u001b[0mkwargs\u001b[0m\u001b[0;34m)\u001b[0m\u001b[0;34m\u001b[0m\u001b[0;34m\u001b[0m\u001b[0m\n\u001b[0m\u001b[1;32m    151\u001b[0m     \u001b[0;32mexcept\u001b[0m \u001b[0mException\u001b[0m \u001b[0;32mas\u001b[0m \u001b[0me\u001b[0m\u001b[0;34m:\u001b[0m\u001b[0;34m\u001b[0m\u001b[0;34m\u001b[0m\u001b[0m\n\u001b[1;32m    152\u001b[0m       \u001b[0mfiltered_tb\u001b[0m \u001b[0;34m=\u001b[0m \u001b[0m_process_traceback_frames\u001b[0m\u001b[0;34m(\u001b[0m\u001b[0me\u001b[0m\u001b[0;34m.\u001b[0m\u001b[0m__traceback__\u001b[0m\u001b[0;34m)\u001b[0m\u001b[0;34m\u001b[0m\u001b[0;34m\u001b[0m\u001b[0m\n",
            "\u001b[0;32m/usr/local/lib/python3.7/dist-packages/tensorflow/python/eager/def_function.py\u001b[0m in \u001b[0;36m__call__\u001b[0;34m(self, *args, **kwds)\u001b[0m\n\u001b[1;32m    913\u001b[0m \u001b[0;34m\u001b[0m\u001b[0m\n\u001b[1;32m    914\u001b[0m       \u001b[0;32mwith\u001b[0m \u001b[0mOptionalXlaContext\u001b[0m\u001b[0;34m(\u001b[0m\u001b[0mself\u001b[0m\u001b[0;34m.\u001b[0m\u001b[0m_jit_compile\u001b[0m\u001b[0;34m)\u001b[0m\u001b[0;34m:\u001b[0m\u001b[0;34m\u001b[0m\u001b[0;34m\u001b[0m\u001b[0m\n\u001b[0;32m--> 915\u001b[0;31m         \u001b[0mresult\u001b[0m \u001b[0;34m=\u001b[0m \u001b[0mself\u001b[0m\u001b[0;34m.\u001b[0m\u001b[0m_call\u001b[0m\u001b[0;34m(\u001b[0m\u001b[0;34m*\u001b[0m\u001b[0margs\u001b[0m\u001b[0;34m,\u001b[0m \u001b[0;34m**\u001b[0m\u001b[0mkwds\u001b[0m\u001b[0;34m)\u001b[0m\u001b[0;34m\u001b[0m\u001b[0;34m\u001b[0m\u001b[0m\n\u001b[0m\u001b[1;32m    916\u001b[0m \u001b[0;34m\u001b[0m\u001b[0m\n\u001b[1;32m    917\u001b[0m       \u001b[0mnew_tracing_count\u001b[0m \u001b[0;34m=\u001b[0m \u001b[0mself\u001b[0m\u001b[0;34m.\u001b[0m\u001b[0mexperimental_get_tracing_count\u001b[0m\u001b[0;34m(\u001b[0m\u001b[0;34m)\u001b[0m\u001b[0;34m\u001b[0m\u001b[0;34m\u001b[0m\u001b[0m\n",
            "\u001b[0;32m/usr/local/lib/python3.7/dist-packages/tensorflow/python/eager/def_function.py\u001b[0m in \u001b[0;36m_call\u001b[0;34m(self, *args, **kwds)\u001b[0m\n\u001b[1;32m    945\u001b[0m       \u001b[0;31m# In this case we have created variables on the first call, so we run the\u001b[0m\u001b[0;34m\u001b[0m\u001b[0;34m\u001b[0m\u001b[0;34m\u001b[0m\u001b[0m\n\u001b[1;32m    946\u001b[0m       \u001b[0;31m# defunned version which is guaranteed to never create variables.\u001b[0m\u001b[0;34m\u001b[0m\u001b[0;34m\u001b[0m\u001b[0;34m\u001b[0m\u001b[0m\n\u001b[0;32m--> 947\u001b[0;31m       \u001b[0;32mreturn\u001b[0m \u001b[0mself\u001b[0m\u001b[0;34m.\u001b[0m\u001b[0m_stateless_fn\u001b[0m\u001b[0;34m(\u001b[0m\u001b[0;34m*\u001b[0m\u001b[0margs\u001b[0m\u001b[0;34m,\u001b[0m \u001b[0;34m**\u001b[0m\u001b[0mkwds\u001b[0m\u001b[0;34m)\u001b[0m  \u001b[0;31m# pylint: disable=not-callable\u001b[0m\u001b[0;34m\u001b[0m\u001b[0;34m\u001b[0m\u001b[0m\n\u001b[0m\u001b[1;32m    948\u001b[0m     \u001b[0;32melif\u001b[0m \u001b[0mself\u001b[0m\u001b[0;34m.\u001b[0m\u001b[0m_stateful_fn\u001b[0m \u001b[0;32mis\u001b[0m \u001b[0;32mnot\u001b[0m \u001b[0;32mNone\u001b[0m\u001b[0;34m:\u001b[0m\u001b[0;34m\u001b[0m\u001b[0;34m\u001b[0m\u001b[0m\n\u001b[1;32m    949\u001b[0m       \u001b[0;31m# Release the lock early so that multiple threads can perform the call\u001b[0m\u001b[0;34m\u001b[0m\u001b[0;34m\u001b[0m\u001b[0;34m\u001b[0m\u001b[0m\n",
            "\u001b[0;32m/usr/local/lib/python3.7/dist-packages/tensorflow/python/eager/function.py\u001b[0m in \u001b[0;36m__call__\u001b[0;34m(self, *args, **kwargs)\u001b[0m\n\u001b[1;32m   2955\u001b[0m        filtered_flat_args) = self._maybe_define_function(args, kwargs)\n\u001b[1;32m   2956\u001b[0m     return graph_function._call_flat(\n\u001b[0;32m-> 2957\u001b[0;31m         filtered_flat_args, captured_inputs=graph_function.captured_inputs)  # pylint: disable=protected-access\n\u001b[0m\u001b[1;32m   2958\u001b[0m \u001b[0;34m\u001b[0m\u001b[0m\n\u001b[1;32m   2959\u001b[0m   \u001b[0;34m@\u001b[0m\u001b[0mproperty\u001b[0m\u001b[0;34m\u001b[0m\u001b[0;34m\u001b[0m\u001b[0m\n",
            "\u001b[0;32m/usr/local/lib/python3.7/dist-packages/tensorflow/python/eager/function.py\u001b[0m in \u001b[0;36m_call_flat\u001b[0;34m(self, args, captured_inputs, cancellation_manager)\u001b[0m\n\u001b[1;32m   1852\u001b[0m       \u001b[0;31m# No tape is watching; skip to running the function.\u001b[0m\u001b[0;34m\u001b[0m\u001b[0;34m\u001b[0m\u001b[0;34m\u001b[0m\u001b[0m\n\u001b[1;32m   1853\u001b[0m       return self._build_call_outputs(self._inference_function.call(\n\u001b[0;32m-> 1854\u001b[0;31m           ctx, args, cancellation_manager=cancellation_manager))\n\u001b[0m\u001b[1;32m   1855\u001b[0m     forward_backward = self._select_forward_and_backward_functions(\n\u001b[1;32m   1856\u001b[0m         \u001b[0margs\u001b[0m\u001b[0;34m,\u001b[0m\u001b[0;34m\u001b[0m\u001b[0;34m\u001b[0m\u001b[0m\n",
            "\u001b[0;32m/usr/local/lib/python3.7/dist-packages/tensorflow/python/eager/function.py\u001b[0m in \u001b[0;36mcall\u001b[0;34m(self, ctx, args, cancellation_manager)\u001b[0m\n\u001b[1;32m    502\u001b[0m               \u001b[0minputs\u001b[0m\u001b[0;34m=\u001b[0m\u001b[0margs\u001b[0m\u001b[0;34m,\u001b[0m\u001b[0;34m\u001b[0m\u001b[0;34m\u001b[0m\u001b[0m\n\u001b[1;32m    503\u001b[0m               \u001b[0mattrs\u001b[0m\u001b[0;34m=\u001b[0m\u001b[0mattrs\u001b[0m\u001b[0;34m,\u001b[0m\u001b[0;34m\u001b[0m\u001b[0;34m\u001b[0m\u001b[0m\n\u001b[0;32m--> 504\u001b[0;31m               ctx=ctx)\n\u001b[0m\u001b[1;32m    505\u001b[0m         \u001b[0;32melse\u001b[0m\u001b[0;34m:\u001b[0m\u001b[0;34m\u001b[0m\u001b[0;34m\u001b[0m\u001b[0m\n\u001b[1;32m    506\u001b[0m           outputs = execute.execute_with_cancellation(\n",
            "\u001b[0;32m/usr/local/lib/python3.7/dist-packages/tensorflow/python/eager/execute.py\u001b[0m in \u001b[0;36mquick_execute\u001b[0;34m(op_name, num_outputs, inputs, attrs, ctx, name)\u001b[0m\n\u001b[1;32m     53\u001b[0m     \u001b[0mctx\u001b[0m\u001b[0;34m.\u001b[0m\u001b[0mensure_initialized\u001b[0m\u001b[0;34m(\u001b[0m\u001b[0;34m)\u001b[0m\u001b[0;34m\u001b[0m\u001b[0;34m\u001b[0m\u001b[0m\n\u001b[1;32m     54\u001b[0m     tensors = pywrap_tfe.TFE_Py_Execute(ctx._handle, device_name, op_name,\n\u001b[0;32m---> 55\u001b[0;31m                                         inputs, attrs, num_outputs)\n\u001b[0m\u001b[1;32m     56\u001b[0m   \u001b[0;32mexcept\u001b[0m \u001b[0mcore\u001b[0m\u001b[0;34m.\u001b[0m\u001b[0m_NotOkStatusException\u001b[0m \u001b[0;32mas\u001b[0m \u001b[0me\u001b[0m\u001b[0;34m:\u001b[0m\u001b[0;34m\u001b[0m\u001b[0;34m\u001b[0m\u001b[0m\n\u001b[1;32m     57\u001b[0m     \u001b[0;32mif\u001b[0m \u001b[0mname\u001b[0m \u001b[0;32mis\u001b[0m \u001b[0;32mnot\u001b[0m \u001b[0;32mNone\u001b[0m\u001b[0;34m:\u001b[0m\u001b[0;34m\u001b[0m\u001b[0;34m\u001b[0m\u001b[0m\n",
            "\u001b[0;31mKeyboardInterrupt\u001b[0m: "
          ]
        }
      ],
      "source": [
        "\n",
        "def run_experiment(model):\n",
        "    optimizer = tfa.optimizers.AdamW(\n",
        "        learning_rate=learning_rate, weight_decay=weight_decay\n",
        "    )\n",
        "\n",
        "    model.compile(\n",
        "        optimizer=optimizer,\n",
        "        loss=\"binary_crossentropy\",\n",
        "        metrics=[\n",
        "            keras.metrics.Accuracy(name=\"accuracy\"),\n",
        "            keras.metrics.FalsePositives(name=\"kl\"),\n",
        "            recall,\n",
        "            precision, \n",
        "            f1\n",
        "        ]\n",
        "    )\n",
        "\n",
        "    checkpoint_filepath = \"/content/drive/MyDrive/\"\n",
        "    checkpoint_callback = keras.callbacks.ModelCheckpoint(\n",
        "        checkpoint_filepath,\n",
        "        monitor=\"val_accuracy\",\n",
        "        save_freq=\"epoch\",\n",
        "        save_best_only=True,\n",
        "        save_weights_only=True,\n",
        "    )\n",
        "\n",
        "    history = model.fit(\n",
        "        x=x_train,\n",
        "        y=y_train,\n",
        "        batch_size=batch_size,\n",
        "        epochs=num_epochs,\n",
        "        validation_split=0.1,\n",
        "        callbacks=[checkpoint_callback]\n",
        "    )\n",
        "\n",
        "    model.load_weights(checkpoint_filepath)\n",
        "    _, accuracy, top_5_accuracy, recall_2, precision_2, f1_2 = model.evaluate(x_test, y_test)\n",
        "    print(f\"Test accuracy: {round(accuracy * 100, 2)}%\")\n",
        "    print(f\"Test top 5 accuracy: {round(top_5_accuracy * 100, 2)}%\")\n",
        "    print(f\"Test recall: {round(recall_2 * 100, 2)}%\")\n",
        "    print(f\"Test precision: {round(precision_2 * 100, 2)}%\")\n",
        "    print(f\"Test F1 score: {round(f1_2 * 100, 2)}%\")\n",
        "\n",
        "\n",
        "    return history\n",
        "\n",
        "\n",
        "vit_classifier = create_vit_classifier()\n",
        "history = run_experiment(vit_classifier)\n"
      ]
    },
    {
      "cell_type": "code",
      "source": [
        "plt.figure(figsize=(10,10))\n",
        "plt.plot(history.history['loss'])\n",
        "plt.plot(history.history['val_loss'])\n",
        "plt.title('Training vs Validation loss')\n",
        "plt.ylabel('loss')\n",
        "plt.xlabel('epoch')\n",
        "plt.legend(['train', 'val'], loc='upper left')\n",
        "plt.show()"
      ],
      "metadata": {
        "colab": {
          "base_uri": "https://localhost:8080/",
          "height": 621
        },
        "id": "T9QhZCfmBGmq",
        "outputId": "a1336576-3133-4d8e-d5c2-92f017229d3a"
      },
      "execution_count": null,
      "outputs": [
        {
          "output_type": "display_data",
          "data": {
            "image/png": "[encoded data removed]",
            "text/plain": [
              "<Figure size 720x720 with 1 Axes>"
            ]
          },
          "metadata": {
            "needs_background": "light"
          }
        }
      ]
    },
    {
      "cell_type": "code",
      "source": [
        "plt.figure(figsize=(10,10))\n",
        "plt.plot(history.history['accuracy'])\n",
        "plt.plot(history.history['val_accuracy'])\n",
        "plt.title('Training Accuracy vs Validation Accuracy')\n",
        "plt.ylabel('accuracy')\n",
        "plt.xlabel('epoch')\n",
        "plt.legend(['train', 'val'], loc='upper left')\n",
        "plt.show()"
      ],
      "metadata": {
        "colab": {
          "base_uri": "https://localhost:8080/",
          "height": 621
        },
        "id": "8pyyfiXDRYOX",
        "outputId": "0351cf21-d1dd-4b2f-d67a-7045d7d795af"
      },
      "execution_count": null,
      "outputs": [
        {
          "output_type": "display_data",
          "data": {
            "image/png": "[encoded data removed]",
            "text/plain": [
              "<Figure size 720x720 with 1 Axes>"
            ]
          },
          "metadata": {
            "needs_background": "light"
          }
        }
      ]
    },
    {
      "cell_type": "code",
      "source": [
        "plt.figure(figsize=(10,10))\n",
        "plt.plot(history.history['top-5-accuracy'])\n",
        "plt.plot(history.history['val_top-5-accuracy'])\n",
        "plt.title('Top-5-accuracy in Training vs Top-5-accuracy in Validation')\n",
        "plt.ylabel('top-5-accuracy')\n",
        "plt.xlabel('epoch')\n",
        "plt.legend(['train', 'val'], loc='upper left')\n",
        "plt.show()"
      ],
      "metadata": {
        "colab": {
          "base_uri": "https://localhost:8080/",
          "height": 621
        },
        "id": "H4JWSdhIFRUw",
        "outputId": "6e53bc02-a0ab-4490-c618-77d673a88212"
      },
      "execution_count": null,
      "outputs": [
        {
          "output_type": "display_data",
          "data": {
            "image/png": "[encoded data removed]",
            "text/plain": [
              "<Figure size 720x720 with 1 Axes>"
            ]
          },
          "metadata": {
            "needs_background": "light"
          }
        }
      ]
    },
    {
      "cell_type": "code",
      "source": [
        "plt.figure(figsize=(10,10))\n",
        "plt.plot(history.history['recall'])\n",
        "plt.plot(history.history['val_recall'])\n",
        "plt.title('Recall')\n",
        "plt.ylabel('recall')\n",
        "plt.xlabel('epoch')\n",
        "plt.legend(['train', 'val'], loc='upper left')\n",
        "plt.show()"
      ],
      "metadata": {
        "colab": {
          "base_uri": "https://localhost:8080/",
          "height": 621
        },
        "id": "73U9imvc6HVK",
        "outputId": "141ada41-c066-4a03-c7bb-20d8fe0bf10b"
      },
      "execution_count": null,
      "outputs": [
        {
          "output_type": "display_data",
          "data": {
            "text/plain": [
              "<Figure size 720x720 with 1 Axes>"
            ],
            "image/png": "[encoded data removed]"
          },
          "metadata": {
            "needs_background": "light"
          }
        }
      ]
    },
    {
      "cell_type": "code",
      "source": [
        "plt.figure(figsize=(10,10))\n",
        "plt.plot(history.history['f1'])\n",
        "plt.plot(history.history['val_f1'])\n",
        "plt.title('Recall')\n",
        "plt.ylabel('recall')\n",
        "plt.xlabel('epoch')\n",
        "plt.legend(['train', 'val'], loc='upper left')\n",
        "plt.show()"
      ],
      "metadata": {
        "colab": {
          "base_uri": "https://localhost:8080/",
          "height": 621
        },
        "id": "i_kp88qE6osv",
        "outputId": "1b3150ab-46f9-4724-c3c9-041446933c1a"
      },
      "execution_count": null,
      "outputs": [
        {
          "output_type": "display_data",
          "data": {
            "text/plain": [
              "<Figure size 720x720 with 1 Axes>"
            ],
            "image/png": "[encoded data removed]"
          },
          "metadata": {
            "needs_background": "light"
          }
        }
      ]
    },
    {
      "cell_type": "code",
      "source": [
        "import pandas as pd\n",
        "pd.DataFrame(history.history).plot(figsize=(10,10))\n",
        "plt.show()"
      ],
      "metadata": {
        "colab": {
          "base_uri": "https://localhost:8080/",
          "height": 592
        },
        "id": "US_PCuUUDGNE",
        "outputId": "c7d1e822-4650-45fb-a9a3-697b0dab46d8"
      },
      "execution_count": null,
      "outputs": [
        {
          "output_type": "display_data",
          "data": {
            "image/png": "[encoded data removed]",
            "text/plain": [
              "<Figure size 720x720 with 1 Axes>"
            ]
          },
          "metadata": {
            "needs_background": "light"
          }
        }
      ]
    },
    {
      "cell_type": "code",
      "source": [
        "print(y_test)"
      ],
      "metadata": {
        "colab": {
          "base_uri": "https://localhost:8080/"
        },
        "id": "0NkVAzbeHogs",
        "outputId": "56edfb09-6aef-4937-a425-4622eaec6626"
      },
      "execution_count": null,
      "outputs": [
        {
          "output_type": "stream",
          "name": "stdout",
          "text": [
            "[[1]\n",
            " [1]\n",
            " [1]\n",
            " [1]\n",
            " [1]\n",
            " [1]\n",
            " [1]\n",
            " [1]\n",
            " [1]\n",
            " [1]\n",
            " [1]\n",
            " [1]\n",
            " [1]\n",
            " [1]\n",
            " [1]\n",
            " [1]\n",
            " [1]\n",
            " [1]\n",
            " [1]\n",
            " [1]\n",
            " [1]\n",
            " [0]\n",
            " [0]\n",
            " [0]\n",
            " [0]\n",
            " [0]\n",
            " [0]\n",
            " [0]\n",
            " [0]\n",
            " [0]\n",
            " [0]\n",
            " [0]\n",
            " [0]\n",
            " [0]\n",
            " [0]\n",
            " [0]\n",
            " [0]\n",
            " [0]]\n"
          ]
        }
      ]
    },
    {
      "cell_type": "code",
      "source": [
        "model = tf.keras.models.load_model('/content/drive/MyDrive/mymodel')"
      ],
      "metadata": {
        "id": "UzV__6WvJin_"
      },
      "execution_count": null,
      "outputs": []
    },
    {
      "cell_type": "code",
      "source": [
        "model.summary()"
      ],
      "metadata": {
        "colab": {
          "base_uri": "https://localhost:8080/"
        },
        "id": "zB5bfZVXJ5Hi",
        "outputId": "a1deadb2-6366-4b61-863e-d2e508dcdd05"
      },
      "execution_count": null,
      "outputs": [
        {
          "output_type": "stream",
          "name": "stdout",
          "text": [
            "Model: \"model_25\"\n",
            "__________________________________________________________________________________________________\n",
            " Layer (type)                   Output Shape         Param #     Connected to                     \n",
            "==================================================================================================\n",
            " input_26 (InputLayer)          [(None, 32, 32, 3)]  0           []                               \n",
            "                                                                                                  \n",
            " data_augmentation (Sequential)  (None, 72, 72, 3)   7           ['input_26[0][0]']               \n",
            "                                                                                                  \n",
            " patches_28 (Patches)           (None, None, 108)    0           ['data_augmentation[0][0]']      \n",
            "                                                                                                  \n",
            " patch_encoder_25 (PatchEncoder  (None, 144, 64)     16192       ['patches_28[0][0]']             \n",
            " )                                                                                                \n",
            "                                                                                                  \n",
            " layer_normalization_425 (Layer  (None, 144, 64)     128         ['patch_encoder_25[0][0]']       \n",
            " Normalization)                                                                                   \n",
            "                                                                                                  \n",
            " multi_head_attention_200 (Mult  (None, 144, 64)     66368       ['layer_normalization_425[0][0]',\n",
            " iHeadAttention)                                                  'layer_normalization_425[0][0]']\n",
            "                                                                                                  \n",
            " add_400 (Add)                  (None, 144, 64)      0           ['multi_head_attention_200[0][0]'\n",
            "                                                                 , 'patch_encoder_25[0][0]']      \n",
            "                                                                                                  \n",
            " layer_normalization_426 (Layer  (None, 144, 64)     128         ['add_400[0][0]']                \n",
            " Normalization)                                                                                   \n",
            "                                                                                                  \n",
            " dense_501 (Dense)              (None, 144, 128)     8320        ['layer_normalization_426[0][0]']\n",
            "                                                                                                  \n",
            " dropout_475 (Dropout)          (None, 144, 128)     0           ['dense_501[0][0]']              \n",
            "                                                                                                  \n",
            " dense_502 (Dense)              (None, 144, 64)      8256        ['dropout_475[0][0]']            \n",
            "                                                                                                  \n",
            " dropout_476 (Dropout)          (None, 144, 64)      0           ['dense_502[0][0]']              \n",
            "                                                                                                  \n",
            " add_401 (Add)                  (None, 144, 64)      0           ['dropout_476[0][0]',            \n",
            "                                                                  'add_400[0][0]']                \n",
            "                                                                                                  \n",
            " layer_normalization_427 (Layer  (None, 144, 64)     128         ['add_401[0][0]']                \n",
            " Normalization)                                                                                   \n",
            "                                                                                                  \n",
            " multi_head_attention_201 (Mult  (None, 144, 64)     66368       ['layer_normalization_427[0][0]',\n",
            " iHeadAttention)                                                  'layer_normalization_427[0][0]']\n",
            "                                                                                                  \n",
            " add_402 (Add)                  (None, 144, 64)      0           ['multi_head_attention_201[0][0]'\n",
            "                                                                 , 'add_401[0][0]']               \n",
            "                                                                                                  \n",
            " layer_normalization_428 (Layer  (None, 144, 64)     128         ['add_402[0][0]']                \n",
            " Normalization)                                                                                   \n",
            "                                                                                                  \n",
            " dense_503 (Dense)              (None, 144, 128)     8320        ['layer_normalization_428[0][0]']\n",
            "                                                                                                  \n",
            " dropout_477 (Dropout)          (None, 144, 128)     0           ['dense_503[0][0]']              \n",
            "                                                                                                  \n",
            " dense_504 (Dense)              (None, 144, 64)      8256        ['dropout_477[0][0]']            \n",
            "                                                                                                  \n",
            " dropout_478 (Dropout)          (None, 144, 64)      0           ['dense_504[0][0]']              \n",
            "                                                                                                  \n",
            " add_403 (Add)                  (None, 144, 64)      0           ['dropout_478[0][0]',            \n",
            "                                                                  'add_402[0][0]']                \n",
            "                                                                                                  \n",
            " layer_normalization_429 (Layer  (None, 144, 64)     128         ['add_403[0][0]']                \n",
            " Normalization)                                                                                   \n",
            "                                                                                                  \n",
            " multi_head_attention_202 (Mult  (None, 144, 64)     66368       ['layer_normalization_429[0][0]',\n",
            " iHeadAttention)                                                  'layer_normalization_429[0][0]']\n",
            "                                                                                                  \n",
            " add_404 (Add)                  (None, 144, 64)      0           ['multi_head_attention_202[0][0]'\n",
            "                                                                 , 'add_403[0][0]']               \n",
            "                                                                                                  \n",
            " layer_normalization_430 (Layer  (None, 144, 64)     128         ['add_404[0][0]']                \n",
            " Normalization)                                                                                   \n",
            "                                                                                                  \n",
            " dense_505 (Dense)              (None, 144, 128)     8320        ['layer_normalization_430[0][0]']\n",
            "                                                                                                  \n",
            " dropout_479 (Dropout)          (None, 144, 128)     0           ['dense_505[0][0]']              \n",
            "                                                                                                  \n",
            " dense_506 (Dense)              (None, 144, 64)      8256        ['dropout_479[0][0]']            \n",
            "                                                                                                  \n",
            " dropout_480 (Dropout)          (None, 144, 64)      0           ['dense_506[0][0]']              \n",
            "                                                                                                  \n",
            " add_405 (Add)                  (None, 144, 64)      0           ['dropout_480[0][0]',            \n",
            "                                                                  'add_404[0][0]']                \n",
            "                                                                                                  \n",
            " layer_normalization_431 (Layer  (None, 144, 64)     128         ['add_405[0][0]']                \n",
            " Normalization)                                                                                   \n",
            "                                                                                                  \n",
            " multi_head_attention_203 (Mult  (None, 144, 64)     66368       ['layer_normalization_431[0][0]',\n",
            " iHeadAttention)                                                  'layer_normalization_431[0][0]']\n",
            "                                                                                                  \n",
            " add_406 (Add)                  (None, 144, 64)      0           ['multi_head_attention_203[0][0]'\n",
            "                                                                 , 'add_405[0][0]']               \n",
            "                                                                                                  \n",
            " layer_normalization_432 (Layer  (None, 144, 64)     128         ['add_406[0][0]']                \n",
            " Normalization)                                                                                   \n",
            "                                                                                                  \n",
            " dense_507 (Dense)              (None, 144, 128)     8320        ['layer_normalization_432[0][0]']\n",
            "                                                                                                  \n",
            " dropout_481 (Dropout)          (None, 144, 128)     0           ['dense_507[0][0]']              \n",
            "                                                                                                  \n",
            " dense_508 (Dense)              (None, 144, 64)      8256        ['dropout_481[0][0]']            \n",
            "                                                                                                  \n",
            " dropout_482 (Dropout)          (None, 144, 64)      0           ['dense_508[0][0]']              \n",
            "                                                                                                  \n",
            " add_407 (Add)                  (None, 144, 64)      0           ['dropout_482[0][0]',            \n",
            "                                                                  'add_406[0][0]']                \n",
            "                                                                                                  \n",
            " layer_normalization_433 (Layer  (None, 144, 64)     128         ['add_407[0][0]']                \n",
            " Normalization)                                                                                   \n",
            "                                                                                                  \n",
            " multi_head_attention_204 (Mult  (None, 144, 64)     66368       ['layer_normalization_433[0][0]',\n",
            " iHeadAttention)                                                  'layer_normalization_433[0][0]']\n",
            "                                                                                                  \n",
            " add_408 (Add)                  (None, 144, 64)      0           ['multi_head_attention_204[0][0]'\n",
            "                                                                 , 'add_407[0][0]']               \n",
            "                                                                                                  \n",
            " layer_normalization_434 (Layer  (None, 144, 64)     128         ['add_408[0][0]']                \n",
            " Normalization)                                                                                   \n",
            "                                                                                                  \n",
            " dense_509 (Dense)              (None, 144, 128)     8320        ['layer_normalization_434[0][0]']\n",
            "                                                                                                  \n",
            " dropout_483 (Dropout)          (None, 144, 128)     0           ['dense_509[0][0]']              \n",
            "                                                                                                  \n",
            " dense_510 (Dense)              (None, 144, 64)      8256        ['dropout_483[0][0]']            \n",
            "                                                                                                  \n",
            " dropout_484 (Dropout)          (None, 144, 64)      0           ['dense_510[0][0]']              \n",
            "                                                                                                  \n",
            " add_409 (Add)                  (None, 144, 64)      0           ['dropout_484[0][0]',            \n",
            "                                                                  'add_408[0][0]']                \n",
            "                                                                                                  \n",
            " layer_normalization_435 (Layer  (None, 144, 64)     128         ['add_409[0][0]']                \n",
            " Normalization)                                                                                   \n",
            "                                                                                                  \n",
            " multi_head_attention_205 (Mult  (None, 144, 64)     66368       ['layer_normalization_435[0][0]',\n",
            " iHeadAttention)                                                  'layer_normalization_435[0][0]']\n",
            "                                                                                                  \n",
            " add_410 (Add)                  (None, 144, 64)      0           ['multi_head_attention_205[0][0]'\n",
            "                                                                 , 'add_409[0][0]']               \n",
            "                                                                                                  \n",
            " layer_normalization_436 (Layer  (None, 144, 64)     128         ['add_410[0][0]']                \n",
            " Normalization)                                                                                   \n",
            "                                                                                                  \n",
            " dense_511 (Dense)              (None, 144, 128)     8320        ['layer_normalization_436[0][0]']\n",
            "                                                                                                  \n",
            " dropout_485 (Dropout)          (None, 144, 128)     0           ['dense_511[0][0]']              \n",
            "                                                                                                  \n",
            " dense_512 (Dense)              (None, 144, 64)      8256        ['dropout_485[0][0]']            \n",
            "                                                                                                  \n",
            " dropout_486 (Dropout)          (None, 144, 64)      0           ['dense_512[0][0]']              \n",
            "                                                                                                  \n",
            " add_411 (Add)                  (None, 144, 64)      0           ['dropout_486[0][0]',            \n",
            "                                                                  'add_410[0][0]']                \n",
            "                                                                                                  \n",
            " layer_normalization_437 (Layer  (None, 144, 64)     128         ['add_411[0][0]']                \n",
            " Normalization)                                                                                   \n",
            "                                                                                                  \n",
            " multi_head_attention_206 (Mult  (None, 144, 64)     66368       ['layer_normalization_437[0][0]',\n",
            " iHeadAttention)                                                  'layer_normalization_437[0][0]']\n",
            "                                                                                                  \n",
            " add_412 (Add)                  (None, 144, 64)      0           ['multi_head_attention_206[0][0]'\n",
            "                                                                 , 'add_411[0][0]']               \n",
            "                                                                                                  \n",
            " layer_normalization_438 (Layer  (None, 144, 64)     128         ['add_412[0][0]']                \n",
            " Normalization)                                                                                   \n",
            "                                                                                                  \n",
            " dense_513 (Dense)              (None, 144, 128)     8320        ['layer_normalization_438[0][0]']\n",
            "                                                                                                  \n",
            " dropout_487 (Dropout)          (None, 144, 128)     0           ['dense_513[0][0]']              \n",
            "                                                                                                  \n",
            " dense_514 (Dense)              (None, 144, 64)      8256        ['dropout_487[0][0]']            \n",
            "                                                                                                  \n",
            " dropout_488 (Dropout)          (None, 144, 64)      0           ['dense_514[0][0]']              \n",
            "                                                                                                  \n",
            " add_413 (Add)                  (None, 144, 64)      0           ['dropout_488[0][0]',            \n",
            "                                                                  'add_412[0][0]']                \n",
            "                                                                                                  \n",
            " layer_normalization_439 (Layer  (None, 144, 64)     128         ['add_413[0][0]']                \n",
            " Normalization)                                                                                   \n",
            "                                                                                                  \n",
            " multi_head_attention_207 (Mult  (None, 144, 64)     66368       ['layer_normalization_439[0][0]',\n",
            " iHeadAttention)                                                  'layer_normalization_439[0][0]']\n",
            "                                                                                                  \n",
            " add_414 (Add)                  (None, 144, 64)      0           ['multi_head_attention_207[0][0]'\n",
            "                                                                 , 'add_413[0][0]']               \n",
            "                                                                                                  \n",
            " layer_normalization_440 (Layer  (None, 144, 64)     128         ['add_414[0][0]']                \n",
            " Normalization)                                                                                   \n",
            "                                                                                                  \n",
            " dense_515 (Dense)              (None, 144, 128)     8320        ['layer_normalization_440[0][0]']\n",
            "                                                                                                  \n",
            " dropout_489 (Dropout)          (None, 144, 128)     0           ['dense_515[0][0]']              \n",
            "                                                                                                  \n",
            " dense_516 (Dense)              (None, 144, 64)      8256        ['dropout_489[0][0]']            \n",
            "                                                                                                  \n",
            " dropout_490 (Dropout)          (None, 144, 64)      0           ['dense_516[0][0]']              \n",
            "                                                                                                  \n",
            " add_415 (Add)                  (None, 144, 64)      0           ['dropout_490[0][0]',            \n",
            "                                                                  'add_414[0][0]']                \n",
            "                                                                                                  \n",
            " layer_normalization_441 (Layer  (None, 144, 64)     128         ['add_415[0][0]']                \n",
            " Normalization)                                                                                   \n",
            "                                                                                                  \n",
            " flatten_25 (Flatten)           (None, 9216)         0           ['layer_normalization_441[0][0]']\n",
            "                                                                                                  \n",
            " dropout_491 (Dropout)          (None, 9216)         0           ['flatten_25[0][0]']             \n",
            "                                                                                                  \n",
            " dense_517 (Dense)              (None, 2048)         18876416    ['dropout_491[0][0]']            \n",
            "                                                                                                  \n",
            " dropout_492 (Dropout)          (None, 2048)         0           ['dense_517[0][0]']              \n",
            "                                                                                                  \n",
            " dense_518 (Dense)              (None, 1024)         2098176     ['dropout_492[0][0]']            \n",
            "                                                                                                  \n",
            " dropout_493 (Dropout)          (None, 1024)         0           ['dense_518[0][0]']              \n",
            "                                                                                                  \n",
            " dense_519 (Dense)              (None, 2)            2050        ['dropout_493[0][0]']            \n",
            "                                                                                                  \n",
            "==================================================================================================\n",
            "Total params: 21,658,569\n",
            "Trainable params: 21,658,562\n",
            "Non-trainable params: 7\n",
            "__________________________________________________________________________________________________\n"
          ]
        }
      ]
    },
    {
      "cell_type": "code",
      "source": [
        "y_pred = model.predict(x_test, verbose=1)\n",
        "y_pred = np.rint(y_pred)\n",
        "y_pred = y_pred.astype(int)\n",
        "\n"
      ],
      "metadata": {
        "id": "kXfh3rlXFmjO"
      },
      "execution_count": null,
      "outputs": []
    },
    {
      "cell_type": "code",
      "source": [
        "print(y_pred)"
      ],
      "metadata": {
        "colab": {
          "base_uri": "https://localhost:8080/"
        },
        "id": "yd9LoXXAQ_Gb",
        "outputId": "b0390e3d-b685-4cc8-e523-ce5370ad9802"
      },
      "execution_count": null,
      "outputs": [
        {
          "output_type": "stream",
          "name": "stdout",
          "text": [
            "[[-42  35]\n",
            " [-41  36]\n",
            " [-43  45]\n",
            " [-43  43]\n",
            " [-39  39]\n",
            " [-43  43]\n",
            " [-41  33]\n",
            " [-31  31]\n",
            " [-34  34]\n",
            " [-44  48]\n",
            " [-29  27]\n",
            " [-44  40]\n",
            " [-41  37]\n",
            " [-36  38]\n",
            " [-40  40]\n",
            " [-28  31]\n",
            " [-24  23]\n",
            " [-29  32]\n",
            " [-30  34]\n",
            " [-50  51]\n",
            " [-25  23]\n",
            " [-37  32]\n",
            " [-13   4]\n",
            " [-20  16]\n",
            " [-18   9]\n",
            " [ 13 -22]\n",
            " [  1  -8]\n",
            " [-11   7]\n",
            " [ -4   0]\n",
            " [ -3  -4]\n",
            " [-23   9]\n",
            " [-11 -12]\n",
            " [  5 -12]\n",
            " [  3 -12]\n",
            " [  1 -10]\n",
            " [ 14 -30]\n",
            " [ 12 -21]\n",
            " [  3 -12]]\n"
          ]
        }
      ]
    },
    {
      "cell_type": "code",
      "source": [
        "print(y_test)"
      ],
      "metadata": {
        "colab": {
          "base_uri": "https://localhost:8080/"
        },
        "id": "pwMLmybwQVUY",
        "outputId": "22177376-1cf4-47b6-d24e-78ed2fdee8e9"
      },
      "execution_count": null,
      "outputs": [
        {
          "output_type": "stream",
          "name": "stdout",
          "text": [
            "[[1]\n",
            " [1]\n",
            " [1]\n",
            " [1]\n",
            " [1]\n",
            " [1]\n",
            " [1]\n",
            " [1]\n",
            " [1]\n",
            " [1]\n",
            " [1]\n",
            " [1]\n",
            " [1]\n",
            " [1]\n",
            " [1]\n",
            " [1]\n",
            " [1]\n",
            " [1]\n",
            " [1]\n",
            " [1]\n",
            " [1]\n",
            " [0]\n",
            " [0]\n",
            " [0]\n",
            " [0]\n",
            " [0]\n",
            " [0]\n",
            " [0]\n",
            " [0]\n",
            " [0]\n",
            " [0]\n",
            " [0]\n",
            " [0]\n",
            " [0]\n",
            " [0]\n",
            " [0]\n",
            " [0]\n",
            " [0]]\n"
          ]
        }
      ]
    },
    {
      "cell_type": "code",
      "source": [
        "from sklearn.metrics import classification_report\n",
        "\n",
        "label_names = ['Depressed_Fracture', 'Linear_Fracture']\n",
        "print(classification_report(y_test, y_pred, target_names=label_names, zero_division=1))"
      ],
      "metadata": {
        "colab": {
          "base_uri": "https://localhost:8080/",
          "height": 362
        },
        "id": "1ECIjmh2F4xs",
        "outputId": "e455bdfd-1e46-4363-f945-c4b4792ca72b"
      },
      "execution_count": null,
      "outputs": [
        {
          "output_type": "error",
          "ename": "ValueError",
          "evalue": "ignored",
          "traceback": [
            "\u001b[0;31m---------------------------------------------------------------------------\u001b[0m",
            "\u001b[0;31mValueError\u001b[0m                                Traceback (most recent call last)",
            "\u001b[0;32m<ipython-input-166-9f3e2690b4c9>\u001b[0m in \u001b[0;36m<module>\u001b[0;34m()\u001b[0m\n\u001b[1;32m      2\u001b[0m \u001b[0;34m\u001b[0m\u001b[0m\n\u001b[1;32m      3\u001b[0m \u001b[0mlabel_names\u001b[0m \u001b[0;34m=\u001b[0m \u001b[0;34m[\u001b[0m\u001b[0;34m'Depressed_Fracture'\u001b[0m\u001b[0;34m,\u001b[0m \u001b[0;34m'Linear_Fracture'\u001b[0m\u001b[0;34m]\u001b[0m\u001b[0;34m\u001b[0m\u001b[0;34m\u001b[0m\u001b[0m\n\u001b[0;32m----> 4\u001b[0;31m \u001b[0mprint\u001b[0m\u001b[0;34m(\u001b[0m\u001b[0mclassification_report\u001b[0m\u001b[0;34m(\u001b[0m\u001b[0my_test\u001b[0m\u001b[0;34m,\u001b[0m \u001b[0my_pred\u001b[0m\u001b[0;34m,\u001b[0m \u001b[0mtarget_names\u001b[0m\u001b[0;34m=\u001b[0m\u001b[0mlabel_names\u001b[0m\u001b[0;34m,\u001b[0m \u001b[0mzero_division\u001b[0m\u001b[0;34m=\u001b[0m\u001b[0;36m1\u001b[0m\u001b[0;34m)\u001b[0m\u001b[0;34m)\u001b[0m\u001b[0;34m\u001b[0m\u001b[0;34m\u001b[0m\u001b[0m\n\u001b[0m",
            "\u001b[0;32m/usr/local/lib/python3.7/dist-packages/sklearn/metrics/_classification.py\u001b[0m in \u001b[0;36mclassification_report\u001b[0;34m(y_true, y_pred, labels, target_names, sample_weight, digits, output_dict, zero_division)\u001b[0m\n\u001b[1;32m   2108\u001b[0m     \"\"\"\n\u001b[1;32m   2109\u001b[0m \u001b[0;34m\u001b[0m\u001b[0m\n\u001b[0;32m-> 2110\u001b[0;31m     \u001b[0my_type\u001b[0m\u001b[0;34m,\u001b[0m \u001b[0my_true\u001b[0m\u001b[0;34m,\u001b[0m \u001b[0my_pred\u001b[0m \u001b[0;34m=\u001b[0m \u001b[0m_check_targets\u001b[0m\u001b[0;34m(\u001b[0m\u001b[0my_true\u001b[0m\u001b[0;34m,\u001b[0m \u001b[0my_pred\u001b[0m\u001b[0;34m)\u001b[0m\u001b[0;34m\u001b[0m\u001b[0;34m\u001b[0m\u001b[0m\n\u001b[0m\u001b[1;32m   2111\u001b[0m \u001b[0;34m\u001b[0m\u001b[0m\n\u001b[1;32m   2112\u001b[0m     \u001b[0;32mif\u001b[0m \u001b[0mlabels\u001b[0m \u001b[0;32mis\u001b[0m \u001b[0;32mNone\u001b[0m\u001b[0;34m:\u001b[0m\u001b[0;34m\u001b[0m\u001b[0;34m\u001b[0m\u001b[0m\n",
            "\u001b[0;32m/usr/local/lib/python3.7/dist-packages/sklearn/metrics/_classification.py\u001b[0m in \u001b[0;36m_check_targets\u001b[0;34m(y_true, y_pred)\u001b[0m\n\u001b[1;32m     93\u001b[0m         raise ValueError(\n\u001b[1;32m     94\u001b[0m             \"Classification metrics can't handle a mix of {0} and {1} targets\".format(\n\u001b[0;32m---> 95\u001b[0;31m                 \u001b[0mtype_true\u001b[0m\u001b[0;34m,\u001b[0m \u001b[0mtype_pred\u001b[0m\u001b[0;34m\u001b[0m\u001b[0;34m\u001b[0m\u001b[0m\n\u001b[0m\u001b[1;32m     96\u001b[0m             )\n\u001b[1;32m     97\u001b[0m         )\n",
            "\u001b[0;31mValueError\u001b[0m: Classification metrics can't handle a mix of binary and multiclass-multioutput targets"
          ]
        }
      ]
    },
    {
      "cell_type": "markdown",
      "metadata": {
        "id": "IBEiGa_sInaa"
      },
      "source": [
        "After 100 epochs, the ViT model achieves around 55% accuracy and\n",
        "82% top-5 accuracy on the test data. These are not competitive results on the CIFAR-100 dataset,\n",
        "as a ResNet50V2 trained from scratch on the same data can achieve 67% accuracy.\n",
        "\n",
        "Note that the state of the art results reported in the\n",
        "[paper](https://arxiv.org/abs/2010.11929) are achieved by pre-training the ViT model using\n",
        "the JFT-300M dataset, then fine-tuning it on the target dataset. To improve the model quality\n",
        "without pre-training, you can try to train the model for more epochs, use a larger number of\n",
        "Transformer layers, resize the input images, change the patch size, or increase the projection dimensions. \n",
        "Besides, as mentioned in the paper, the quality of the model is affected not only by architecture choices, \n",
        "but also by parameters such as the learning rate schedule, optimizer, weight decay, etc.\n",
        "In practice, it's recommended to fine-tune a ViT model\n",
        "that was pre-trained using a large, high-resolution dataset."
      ]
    }
  ],
  "metadata": {
    "colab": {
      "collapsed_sections": [],
      "name": "tribal_dress_classification_with_vision_transformer.ipynb",
      "provenance": [],
      "include_colab_link": true
    },
    "environment": {
      "name": "tf2-gpu.2-4.m61",
      "type": "gcloud",
      "uri": "gcr.io/deeplearning-platform-release/tf2-gpu.2-4:m61"
    },
    "kernelspec": {
      "display_name": "Python 3",
      "language": "python",
      "name": "python3"
    },
    "language_info": {
      "codemirror_mode": {
        "name": "ipython",
        "version": 3
      },
      "file_extension": ".py",
      "mimetype": "text/x-python",
      "name": "python",
      "nbconvert_exporter": "python",
      "pygments_lexer": "ipython3",
      "version": "3.7.9"
    },
    "accelerator": "GPU"
  },
  "nbformat": 4,
  "nbformat_minor": 0
}